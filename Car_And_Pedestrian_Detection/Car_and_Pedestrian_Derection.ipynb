{
 "cells": [
  {
   "cell_type": "markdown",
   "id": "3816a9dd-791a-4900-bc2f-c5e46af48b2a",
   "metadata": {},
   "source": [
    "## Pedestrian Detection"
   ]
  },
  {
   "cell_type": "code",
   "execution_count": null,
   "id": "822524c9-56be-4033-931b-e2c848660679",
   "metadata": {},
   "outputs": [],
   "source": [
    "# Import Libraries\n",
    "import cv2\n",
    "import numpy as np\n",
    "\n",
    "# Create our body classifier\n",
    "body_classifier = cv2.CascadeClassifier(r'E:\\Naresh IT Data Science Course\\Course Study Material\\November Month Course Material\\20th nov\\Haarcascades\\haarcascade_fullbody.xml')\n",
    "\n",
    "# Initiate video capture for video file\n",
    "cap = cv2.VideoCapture(r'E:\\Naresh IT Data Science Course\\Course Study Material\\November Month Course Material\\20th nov\\p1.mp4')\n",
    "\n",
    "# Loop once video is successfully loaded\n",
    "while cap.isOpened():\n",
    "    \n",
    "    # Read first frame\n",
    "    ret, frame = cap.read()\n",
    "    #frame = cv2.resize(frame, None,fx=0.5, fy=0.5, interpolation = cv2.INTER_LINEAR)\n",
    "\n",
    "    gray = cv2.cvtColor(frame, cv2.COLOR_BGR2GRAY)\n",
    "    # Pass frame to our body classifier\n",
    "    bodies = body_classifier.detectMultiScale(gray, 1.2, 3)\n",
    "    \n",
    "    # Extract bounding boxes for any bodies identified\n",
    "    for (x,y,w,h) in bodies:\n",
    "        cv2.rectangle(frame, (x, y), (x+w, y+h), (0, 255, 255), 2)\n",
    "        cv2.imshow('Pedestrians', frame)\n",
    "\n",
    "    if cv2.waitKey(1) == 13: #13 is the Enter Key\n",
    "        break\n",
    "\n",
    "cap.release()\n",
    "cv2.destroyAllWindows()"
   ]
  },
  {
   "cell_type": "markdown",
   "id": "219c3a9b-ff97-4f9d-807b-e16be529c97e",
   "metadata": {},
   "source": [
    "## Car Detection"
   ]
  },
  {
   "cell_type": "code",
   "execution_count": null,
   "id": "4cbf9118-38ed-4de8-b59f-e94f6e57c217",
   "metadata": {},
   "outputs": [],
   "source": [
    "# Importing Libraries\n",
    "import cv2\n",
    "import time\n",
    "import numpy as np"
   ]
  },
  {
   "cell_type": "code",
   "execution_count": null,
   "id": "8d09cb08-e87b-4e69-bf0c-4fa55f66c8ee",
   "metadata": {},
   "outputs": [],
   "source": [
    "# Create our car classifier\n",
    "car_classifier = cv2.CascadeClassifier(r'E:\\Naresh IT Data Science Course\\Course Study Material\\November Month Course Material\\20th nov\\Haarcascades\\haarcascade_car.xml')"
   ]
  },
  {
   "cell_type": "code",
   "execution_count": null,
   "id": "e74da200-5830-43a2-ad14-aab2060e5e46",
   "metadata": {},
   "outputs": [],
   "source": [
    "# Initiate video capture for video file\n",
    "cap = cv2.VideoCapture(r'E:\\Naresh IT Data Science Course\\Course Study Material\\November Month Course Material\\20th nov\\Car video1.mp4')"
   ]
  },
  {
   "cell_type": "code",
   "execution_count": null,
   "id": "fdce98e6-94af-48d3-a114-b69beb003dc0",
   "metadata": {},
   "outputs": [],
   "source": [
    "# Loop once video is successfully loaded\n",
    "while cap.isOpened():\n",
    "\n",
    "    time.sleep(.05)\n",
    "    # Read first frame\n",
    "    ret, frame = cap.read()\n",
    "    gray = cv2.cvtColor(frame, cv2.COLOR_BGR2GRAY)\n",
    "\n",
    "    # Pass frame to our car classifier\n",
    "    cars = car_classifier.detectMultiScale(gray, 1.4, 2)\n",
    "\n",
    "    # Extract bounding boxes for any bodies identified\n",
    "    for (x,y,w,h) in cars:\n",
    "        cv2.rectangle(frame,(x,y),(x+w, y+h), (0, 255, 255), 2)\n",
    "        cv2.imshow('cars',frame)\n",
    "\n",
    "    if cv2.waitKey(1)==13: #13 is the Enter Key\n",
    "        break\n",
    "\n",
    "cap.release()\n",
    "cv2.DestroyAllWindows()"
   ]
  }
 ],
 "metadata": {
  "kernelspec": {
   "display_name": "Python 3 (ipykernel)",
   "language": "python",
   "name": "python3"
  },
  "language_info": {
   "codemirror_mode": {
    "name": "ipython",
    "version": 3
   },
   "file_extension": ".py",
   "mimetype": "text/x-python",
   "name": "python",
   "nbconvert_exporter": "python",
   "pygments_lexer": "ipython3",
   "version": "3.10.13"
  }
 },
 "nbformat": 4,
 "nbformat_minor": 5
}
